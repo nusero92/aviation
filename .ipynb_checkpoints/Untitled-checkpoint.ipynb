{
 "cells": [
  {
   "cell_type": "code",
   "execution_count": 1,
   "id": "8eb42ce6",
   "metadata": {},
   "outputs": [
    {
     "ename": "NameError",
     "evalue": "name 'countries' is not defined",
     "output_type": "error",
     "traceback": [
      "\u001b[0;31m---------------------------------------------------------------------------\u001b[0m",
      "\u001b[0;31mNameError\u001b[0m                                 Traceback (most recent call last)",
      "Cell \u001b[0;32mIn [1], line 25\u001b[0m\n\u001b[1;32m     22\u001b[0m     \u001b[38;5;28;01mreturn\u001b[39;00m growth_rate\n\u001b[1;32m     24\u001b[0m \u001b[38;5;66;03m# Apply this in your plotting and prediction loop for distance usage\u001b[39;00m\n\u001b[0;32m---> 25\u001b[0m \u001b[38;5;28;01mfor\u001b[39;00m country \u001b[38;5;129;01min\u001b[39;00m \u001b[43mcountries\u001b[49m:\n\u001b[1;32m     26\u001b[0m     filtered_df \u001b[38;5;241m=\u001b[39m df_ac_type[df_ac_type[\u001b[38;5;124m'\u001b[39m\u001b[38;5;124mCountry\u001b[39m\u001b[38;5;124m'\u001b[39m] \u001b[38;5;241m==\u001b[39m country]\n\u001b[1;32m     28\u001b[0m     \u001b[38;5;66;03m# Assume future_years is defined as np.array([[year] for year in range(2023, 2028)])\u001b[39;00m\n",
      "\u001b[0;31mNameError\u001b[0m: name 'countries' is not defined"
     ]
    }
   ],
   "source": [
    "def predict_distance_usage_growth(filtered_df, future_years):\n",
    "    \"\"\"\n",
    "    A simplified approach to predict future usage by distance based on overall growth rates.\n",
    "    This assumes that the growth rate observed in the trend analysis can be applied to distance categories.\n",
    "    \"\"\"\n",
    "    # Example: Calculate the overall growth rate from trend analysis\n",
    "    yearly_totals = filtered_df.groupby('Year')['Value'].sum()\n",
    "    X = np.array(yearly_totals.index).reshape(-1, 1)\n",
    "    y = yearly_totals.values\n",
    "    model = LinearRegression().fit(X, y)\n",
    "    \n",
    "    # Predict future total values\n",
    "    future_values_total = model.predict(future_years)\n",
    "    \n",
    "    # Calculate the growth rate\n",
    "    if len(y) > 1:\n",
    "        last_year_total = y[-1]\n",
    "        growth_rate = (future_values_total[0] - last_year_total) / last_year_total\n",
    "    else:\n",
    "        growth_rate = 0\n",
    "    \n",
    "    return growth_rate\n",
    "\n",
    "# Apply this in your plotting and prediction loop for distance usage\n",
    "for country in countries:\n",
    "    filtered_df = df_ac_type[df_ac_type['Country'] == country]\n",
    "    \n",
    "    # Assume future_years is defined as np.array([[year] for year in range(2023, 2028)])\n",
    "    growth_rate = predict_distance_usage_growth(filtered_df, future_years)\n",
    "    \n",
    "    # Now, apply this growth rate to predict future usage by distance\n",
    "    distance_usage = filtered_df.groupby(['AcType', 'Distance'])['Value'].sum().reset_index()\n",
    "    \n",
    "   \n",
    "    for ac_type in distance_usage['AcType'].unique():\n",
    "        fig_distance = go.Figure()\n",
    "        df_ac_distance = distance_usage[distance_usage['AcType'] == ac_type]\n",
    "        for _, row in df_ac_distance.iterrows():\n",
    "            future_value = row['Value'] * (1 + growth_rate)\n",
    "            # Plot historical data\n",
    "            fig_distance.add_trace(go.Bar(x=[row['Distance']], y=[row['Value']], name=ac_type))\n",
    "            # Plot predicted future value\n",
    "            fig_distance.add_trace(go.Bar(x=[row['Distance']], y=[future_value], name=f\"Predicted {ac_type}\"))\n",
    "        \n",
    "        fig_distance.update_layout(title=f'Usage of {ac_type} by Distance for {country} (with Predictions)', xaxis_title='Distance', yaxis_title='Value', template='plotly_white')\n",
    "        fig_distance.show()\n"
   ]
  },
  {
   "cell_type": "code",
   "execution_count": null,
   "id": "945c490e",
   "metadata": {},
   "outputs": [],
   "source": []
  }
 ],
 "metadata": {
  "kernelspec": {
   "display_name": "Python 3 (ipykernel)",
   "language": "python",
   "name": "python3"
  },
  "language_info": {
   "codemirror_mode": {
    "name": "ipython",
    "version": 3
   },
   "file_extension": ".py",
   "mimetype": "text/x-python",
   "name": "python",
   "nbconvert_exporter": "python",
   "pygments_lexer": "ipython3",
   "version": "3.10.6"
  },
  "toc": {
   "base_numbering": 1,
   "nav_menu": {},
   "number_sections": true,
   "sideBar": true,
   "skip_h1_title": false,
   "title_cell": "Table of Contents",
   "title_sidebar": "Contents",
   "toc_cell": false,
   "toc_position": {},
   "toc_section_display": true,
   "toc_window_display": false
  },
  "varInspector": {
   "cols": {
    "lenName": 16,
    "lenType": 16,
    "lenVar": 40
   },
   "kernels_config": {
    "python": {
     "delete_cmd_postfix": "",
     "delete_cmd_prefix": "del ",
     "library": "var_list.py",
     "varRefreshCmd": "print(var_dic_list())"
    },
    "r": {
     "delete_cmd_postfix": ") ",
     "delete_cmd_prefix": "rm(",
     "library": "var_list.r",
     "varRefreshCmd": "cat(var_dic_list()) "
    }
   },
   "types_to_exclude": [
    "module",
    "function",
    "builtin_function_or_method",
    "instance",
    "_Feature"
   ],
   "window_display": false
  }
 },
 "nbformat": 4,
 "nbformat_minor": 5
}
